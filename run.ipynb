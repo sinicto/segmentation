{
 "cells": [
  {
   "cell_type": "code",
   "execution_count": null,
   "metadata": {},
   "outputs": [],
   "source": [
    "from segmentation import Unet, Loader\n",
    "\n",
    "loader = Loader()\n",
    "train, dev, test = loader.load_split_data()\n",
    "model = Unet()\n",
    "model.fit(train)\n",
    "model.store()\n",
    "\n",
    "print('Train')\n",
    "model.evaluate(train)\n",
    "\n",
    "print('Dev')\n",
    "model.evaluate(dev)\n",
    "\n",
    "print('Test')\n",
    "model.evaluate(test)"
   ]
  }
 ],
 "metadata": {
  "language_info": {
   "name": "python"
  },
  "orig_nbformat": 4
 },
 "nbformat": 4,
 "nbformat_minor": 2
}
